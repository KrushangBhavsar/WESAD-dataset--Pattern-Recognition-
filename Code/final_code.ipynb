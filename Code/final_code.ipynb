{
  "nbformat": 4,
  "nbformat_minor": 0,
  "metadata": {
    "colab": {
      "name": "PR_project.ipynb",
      "provenance": [],
      "collapsed_sections": []
    },
    "kernelspec": {
      "name": "python3",
      "display_name": "Python 3"
    },
    "language_info": {
      "name": "python"
    },
    "accelerator": "GPU"
  },
  "cells": [
    {
      "cell_type": "code",
      "metadata": {
        "colab": {
          "base_uri": "https://localhost:8080/"
        },
        "id": "O-mHjclR8Poa",
        "outputId": "be19766c-79ff-4b0f-e109-c895fac51039"
      },
      "source": [
        "from google.colab import drive\n",
        "drive.mount('/content/drive')"
      ],
      "execution_count": null,
      "outputs": [
        {
          "output_type": "stream",
          "name": "stdout",
          "text": [
            "Mounted at /content/drive\n"
          ]
        }
      ]
    },
    {
      "cell_type": "code",
      "metadata": {
        "id": "JnpUFoFPv_77"
      },
      "source": [
        "import pandas as pd\n",
        "import pickle\n",
        "import numpy as np\n",
        "import os\n",
        "import math\n",
        "from tqdm.auto import tqdm"
      ],
      "execution_count": null,
      "outputs": []
    },
    {
      "cell_type": "code",
      "metadata": {
        "id": "01jZKKCQwI17"
      },
      "source": [
        "#define you path to dataset\n",
        "BASE_PATH = '/content/drive/MyDrive/Wesad/dataset/WESAD'\n",
        "#define the subject id\n",
        "sub_id = 11"
      ],
      "execution_count": null,
      "outputs": []
    },
    {
      "cell_type": "markdown",
      "source": [
        "**Fetch Data from Chest and Wrist from Dataset**"
      ],
      "metadata": {
        "id": "YYibezVfnry0"
      }
    },
    {
      "cell_type": "code",
      "metadata": {
        "id": "mLxoEZfewMHi"
      },
      "source": [
        "with open(os.path.join(BASE_PATH, 'S{}'.format(sub_id), 'S{}.pkl'.format(sub_id)), 'rb') as pickle_file:\n",
        "  content = pickle.load(pickle_file, encoding='latin1')\n",
        "\n",
        "  # Converting the pickle file to dictionary\n",
        "  dataset_dict = {}\n",
        "  for key in content['signal']['chest']:\n",
        "    dataset_dict['signal_chest_'+key] = content['signal']['chest'][key]\n",
        "\n",
        "  for key in content['signal']['wrist']:\n",
        "    dataset_dict['signal_wrist_'+key] = content['signal']['wrist'][key]\n",
        "\n",
        "  dataset_dict['label'] = content['label']\n"
      ],
      "execution_count": null,
      "outputs": []
    },
    {
      "cell_type": "code",
      "metadata": {
        "id": "QJOBFlKkwcmV"
      },
      "source": [
        "#dictionary for different physiological signals as per sampling frequency\n",
        "chest_keys = {\n",
        "      'ACC': 700, \n",
        "      'ECG': 700, \n",
        "      'EMG': 700, \n",
        "      'EDA': 700, \n",
        "      'Resp': 700, \n",
        "      'Temp': 700, \n",
        "  }\n",
        "wrist_keys = {\n",
        "    'BVP': 64, \n",
        "    'TEMP': 4, \n",
        "    'EDA': 4, \n",
        "    'ACC': 32\n",
        "  }"
      ],
      "execution_count": null,
      "outputs": []
    },
    {
      "cell_type": "markdown",
      "source": [
        "**Index Normalization**"
      ],
      "metadata": {
        "id": "OFGgImRQnDXR"
      }
    },
    {
      "cell_type": "code",
      "metadata": {
        "id": "6f7o0YK-wzzp"
      },
      "source": [
        "def norm_index(hrtz,index,base_hrtz=700): \n",
        "  numerator = index//math.ceil(base_hrtz/hrtz) \n",
        "  return numerator"
      ],
      "execution_count": null,
      "outputs": []
    },
    {
      "cell_type": "code",
      "metadata": {
        "colab": {
          "base_uri": "https://localhost:8080/"
        },
        "id": "wh2AABQ6xsz3",
        "outputId": "9cba296a-337c-4b62-95d2-54070dfa5e7d"
      },
      "source": [
        "len(dataset_dict['label'])"
      ],
      "execution_count": null,
      "outputs": [
        {
          "output_type": "execute_result",
          "data": {
            "text/plain": [
              "3663100"
            ]
          },
          "metadata": {},
          "execution_count": 7
        }
      ]
    },
    {
      "cell_type": "markdown",
      "source": [
        "**Data Preprocessing**"
      ],
      "metadata": {
        "id": "9JL22eVfnJpi"
      }
    },
    {
      "cell_type": "code",
      "metadata": {
        "id": "nl6FiqjyxAUr"
      },
      "source": [
        "records = []\n",
        "for idx in range(len(dataset_dict['label'])):\n",
        "  a_record = {}\n",
        "  for key in chest_keys:\n",
        "\n",
        "    if 'ACC' in key:\n",
        "      a_record['signal_chest_'+key] = np.mean(dataset_dict['signal_chest_'+key][idx])\n",
        "    else:\n",
        "      a_record['signal_chest_'+key] = dataset_dict['signal_chest_'+key][idx][0]\n",
        "  \n",
        "  for key in wrist_keys:\n",
        "    if 'ACC' in key:\n",
        "      a_record['signal_wrist_'+key] = np.mean(dataset_dict['signal_wrist_'+key][norm_index(wrist_keys[key], idx)])\n",
        "    else:\n",
        "      a_record['signal_wrist_'+key] = dataset_dict['signal_wrist_'+key][norm_index(wrist_keys[key], idx)][0]\n",
        "\n",
        "  a_record['label'] = dataset_dict['label'][idx]\n",
        "  records.append(a_record)"
      ],
      "execution_count": null,
      "outputs": []
    },
    {
      "cell_type": "code",
      "metadata": {
        "id": "ElqUUHGB4yYc"
      },
      "source": [
        "sn_dataframe = pd.DataFrame(records)"
      ],
      "execution_count": null,
      "outputs": []
    },
    {
      "cell_type": "code",
      "metadata": {
        "colab": {
          "base_uri": "https://localhost:8080/"
        },
        "id": "w8jA-JFIWRzT",
        "outputId": "3b0006c3-f06e-4ab5-fa6b-c63645941893"
      },
      "source": [
        "sn_dataframe.shape"
      ],
      "execution_count": null,
      "outputs": [
        {
          "output_type": "execute_result",
          "data": {
            "text/plain": [
              "(3663100, 11)"
            ]
          },
          "metadata": {},
          "execution_count": 21
        }
      ]
    },
    {
      "cell_type": "code",
      "metadata": {
        "colab": {
          "base_uri": "https://localhost:8080/",
          "height": 226
        },
        "id": "20XARvaLtuKz",
        "outputId": "7422e913-c7b0-4c11-adb3-aeac8ee91996"
      },
      "source": [
        "#sn_dataframe.columns = cols\n",
        "sn_dataframe.head()"
      ],
      "execution_count": null,
      "outputs": [
        {
          "output_type": "execute_result",
          "data": {
            "text/html": [
              "<div>\n",
              "<style scoped>\n",
              "    .dataframe tbody tr th:only-of-type {\n",
              "        vertical-align: middle;\n",
              "    }\n",
              "\n",
              "    .dataframe tbody tr th {\n",
              "        vertical-align: top;\n",
              "    }\n",
              "\n",
              "    .dataframe thead th {\n",
              "        text-align: right;\n",
              "    }\n",
              "</style>\n",
              "<table border=\"1\" class=\"dataframe\">\n",
              "  <thead>\n",
              "    <tr style=\"text-align: right;\">\n",
              "      <th></th>\n",
              "      <th>signal_chest_ACC</th>\n",
              "      <th>signal_chest_ECG</th>\n",
              "      <th>signal_chest_EMG</th>\n",
              "      <th>signal_chest_EDA</th>\n",
              "      <th>signal_chest_Resp</th>\n",
              "      <th>signal_chest_Temp</th>\n",
              "      <th>signal_wrist_BVP</th>\n",
              "      <th>signal_wrist_TEMP</th>\n",
              "      <th>signal_wrist_EDA</th>\n",
              "      <th>signal_wrist_ACC</th>\n",
              "      <th>label</th>\n",
              "    </tr>\n",
              "  </thead>\n",
              "  <tbody>\n",
              "    <tr>\n",
              "      <th>0</th>\n",
              "      <td>0.985400</td>\n",
              "      <td>0.020096</td>\n",
              "      <td>-0.013870</td>\n",
              "      <td>6.607437</td>\n",
              "      <td>2.120972</td>\n",
              "      <td>33.520264</td>\n",
              "      <td>-12.14</td>\n",
              "      <td>34.0</td>\n",
              "      <td>4.4455</td>\n",
              "      <td>42.0</td>\n",
              "      <td>0</td>\n",
              "    </tr>\n",
              "    <tr>\n",
              "      <th>1</th>\n",
              "      <td>0.914600</td>\n",
              "      <td>0.036850</td>\n",
              "      <td>-0.002014</td>\n",
              "      <td>6.603241</td>\n",
              "      <td>2.113342</td>\n",
              "      <td>33.494537</td>\n",
              "      <td>-12.14</td>\n",
              "      <td>34.0</td>\n",
              "      <td>4.4455</td>\n",
              "      <td>42.0</td>\n",
              "      <td>0</td>\n",
              "    </tr>\n",
              "    <tr>\n",
              "      <th>2</th>\n",
              "      <td>0.786333</td>\n",
              "      <td>0.053650</td>\n",
              "      <td>-0.007599</td>\n",
              "      <td>6.605530</td>\n",
              "      <td>2.122498</td>\n",
              "      <td>33.508148</td>\n",
              "      <td>-12.14</td>\n",
              "      <td>34.0</td>\n",
              "      <td>4.4455</td>\n",
              "      <td>42.0</td>\n",
              "      <td>0</td>\n",
              "    </tr>\n",
              "    <tr>\n",
              "      <th>3</th>\n",
              "      <td>0.644733</td>\n",
              "      <td>0.052780</td>\n",
              "      <td>-0.026505</td>\n",
              "      <td>6.611252</td>\n",
              "      <td>2.125549</td>\n",
              "      <td>33.491516</td>\n",
              "      <td>-12.14</td>\n",
              "      <td>34.0</td>\n",
              "      <td>4.4455</td>\n",
              "      <td>42.0</td>\n",
              "      <td>0</td>\n",
              "    </tr>\n",
              "    <tr>\n",
              "      <th>4</th>\n",
              "      <td>0.503400</td>\n",
              "      <td>0.035751</td>\n",
              "      <td>-0.040421</td>\n",
              "      <td>6.609726</td>\n",
              "      <td>2.131653</td>\n",
              "      <td>33.524780</td>\n",
              "      <td>-12.14</td>\n",
              "      <td>34.0</td>\n",
              "      <td>4.4455</td>\n",
              "      <td>42.0</td>\n",
              "      <td>0</td>\n",
              "    </tr>\n",
              "  </tbody>\n",
              "</table>\n",
              "</div>"
            ],
            "text/plain": [
              "   signal_chest_ACC  signal_chest_ECG  ...  signal_wrist_ACC  label\n",
              "0          0.985400          0.020096  ...              42.0      0\n",
              "1          0.914600          0.036850  ...              42.0      0\n",
              "2          0.786333          0.053650  ...              42.0      0\n",
              "3          0.644733          0.052780  ...              42.0      0\n",
              "4          0.503400          0.035751  ...              42.0      0\n",
              "\n",
              "[5 rows x 11 columns]"
            ]
          },
          "metadata": {},
          "execution_count": 10
        }
      ]
    },
    {
      "cell_type": "code",
      "metadata": {
        "colab": {
          "base_uri": "https://localhost:8080/",
          "height": 414
        },
        "id": "Ob1UI5635D0h",
        "outputId": "a0b1a7f5-3dde-4872-b9e6-0963526b43a2"
      },
      "source": [
        "#correlation matrix\n",
        "corr = sn_dataframe.corr()\n",
        "corr.style.background_gradient(cmap='coolwarm')"
      ],
      "execution_count": null,
      "outputs": [
        {
          "output_type": "execute_result",
          "data": {
            "text/html": [
              "<style  type=\"text/css\" >\n",
              "#T_ec5d086a_57df_11ec_bed3_0242ac1c0002row0_col0,#T_ec5d086a_57df_11ec_bed3_0242ac1c0002row1_col1,#T_ec5d086a_57df_11ec_bed3_0242ac1c0002row2_col2,#T_ec5d086a_57df_11ec_bed3_0242ac1c0002row3_col3,#T_ec5d086a_57df_11ec_bed3_0242ac1c0002row4_col4,#T_ec5d086a_57df_11ec_bed3_0242ac1c0002row5_col5,#T_ec5d086a_57df_11ec_bed3_0242ac1c0002row6_col6,#T_ec5d086a_57df_11ec_bed3_0242ac1c0002row7_col7,#T_ec5d086a_57df_11ec_bed3_0242ac1c0002row8_col8,#T_ec5d086a_57df_11ec_bed3_0242ac1c0002row9_col9,#T_ec5d086a_57df_11ec_bed3_0242ac1c0002row10_col10{\n",
              "            background-color:  #b40426;\n",
              "            color:  #f1f1f1;\n",
              "        }#T_ec5d086a_57df_11ec_bed3_0242ac1c0002row0_col1{\n",
              "            background-color:  #688aef;\n",
              "            color:  #000000;\n",
              "        }#T_ec5d086a_57df_11ec_bed3_0242ac1c0002row0_col2,#T_ec5d086a_57df_11ec_bed3_0242ac1c0002row3_col1,#T_ec5d086a_57df_11ec_bed3_0242ac1c0002row4_col1,#T_ec5d086a_57df_11ec_bed3_0242ac1c0002row4_col2,#T_ec5d086a_57df_11ec_bed3_0242ac1c0002row5_col1,#T_ec5d086a_57df_11ec_bed3_0242ac1c0002row6_col1,#T_ec5d086a_57df_11ec_bed3_0242ac1c0002row6_col2,#T_ec5d086a_57df_11ec_bed3_0242ac1c0002row7_col1,#T_ec5d086a_57df_11ec_bed3_0242ac1c0002row7_col9,#T_ec5d086a_57df_11ec_bed3_0242ac1c0002row8_col1,#T_ec5d086a_57df_11ec_bed3_0242ac1c0002row8_col2,#T_ec5d086a_57df_11ec_bed3_0242ac1c0002row9_col1,#T_ec5d086a_57df_11ec_bed3_0242ac1c0002row9_col2,#T_ec5d086a_57df_11ec_bed3_0242ac1c0002row10_col1,#T_ec5d086a_57df_11ec_bed3_0242ac1c0002row10_col2{\n",
              "            background-color:  #6788ee;\n",
              "            color:  #000000;\n",
              "        }#T_ec5d086a_57df_11ec_bed3_0242ac1c0002row0_col3{\n",
              "            background-color:  #cbd8ee;\n",
              "            color:  #000000;\n",
              "        }#T_ec5d086a_57df_11ec_bed3_0242ac1c0002row0_col4{\n",
              "            background-color:  #4961d2;\n",
              "            color:  #f1f1f1;\n",
              "        }#T_ec5d086a_57df_11ec_bed3_0242ac1c0002row0_col5{\n",
              "            background-color:  #8db0fe;\n",
              "            color:  #000000;\n",
              "        }#T_ec5d086a_57df_11ec_bed3_0242ac1c0002row0_col6,#T_ec5d086a_57df_11ec_bed3_0242ac1c0002row0_col10,#T_ec5d086a_57df_11ec_bed3_0242ac1c0002row1_col2,#T_ec5d086a_57df_11ec_bed3_0242ac1c0002row1_col4,#T_ec5d086a_57df_11ec_bed3_0242ac1c0002row1_col6,#T_ec5d086a_57df_11ec_bed3_0242ac1c0002row2_col1,#T_ec5d086a_57df_11ec_bed3_0242ac1c0002row2_col4,#T_ec5d086a_57df_11ec_bed3_0242ac1c0002row2_col6,#T_ec5d086a_57df_11ec_bed3_0242ac1c0002row3_col6,#T_ec5d086a_57df_11ec_bed3_0242ac1c0002row4_col6,#T_ec5d086a_57df_11ec_bed3_0242ac1c0002row5_col4,#T_ec5d086a_57df_11ec_bed3_0242ac1c0002row5_col6,#T_ec5d086a_57df_11ec_bed3_0242ac1c0002row5_col7,#T_ec5d086a_57df_11ec_bed3_0242ac1c0002row5_col8,#T_ec5d086a_57df_11ec_bed3_0242ac1c0002row6_col4,#T_ec5d086a_57df_11ec_bed3_0242ac1c0002row7_col3,#T_ec5d086a_57df_11ec_bed3_0242ac1c0002row7_col4,#T_ec5d086a_57df_11ec_bed3_0242ac1c0002row7_col5,#T_ec5d086a_57df_11ec_bed3_0242ac1c0002row7_col6,#T_ec5d086a_57df_11ec_bed3_0242ac1c0002row8_col4,#T_ec5d086a_57df_11ec_bed3_0242ac1c0002row8_col6,#T_ec5d086a_57df_11ec_bed3_0242ac1c0002row9_col4,#T_ec5d086a_57df_11ec_bed3_0242ac1c0002row10_col0,#T_ec5d086a_57df_11ec_bed3_0242ac1c0002row10_col4,#T_ec5d086a_57df_11ec_bed3_0242ac1c0002row10_col6,#T_ec5d086a_57df_11ec_bed3_0242ac1c0002row10_col9{\n",
              "            background-color:  #3b4cc0;\n",
              "            color:  #f1f1f1;\n",
              "        }#T_ec5d086a_57df_11ec_bed3_0242ac1c0002row0_col7{\n",
              "            background-color:  #edd2c3;\n",
              "            color:  #000000;\n",
              "        }#T_ec5d086a_57df_11ec_bed3_0242ac1c0002row0_col8{\n",
              "            background-color:  #e8d6cc;\n",
              "            color:  #000000;\n",
              "        }#T_ec5d086a_57df_11ec_bed3_0242ac1c0002row0_col9{\n",
              "            background-color:  #7295f4;\n",
              "            color:  #000000;\n",
              "        }#T_ec5d086a_57df_11ec_bed3_0242ac1c0002row1_col0,#T_ec5d086a_57df_11ec_bed3_0242ac1c0002row6_col10{\n",
              "            background-color:  #92b4fe;\n",
              "            color:  #000000;\n",
              "        }#T_ec5d086a_57df_11ec_bed3_0242ac1c0002row1_col3,#T_ec5d086a_57df_11ec_bed3_0242ac1c0002row2_col3,#T_ec5d086a_57df_11ec_bed3_0242ac1c0002row8_col9{\n",
              "            background-color:  #8badfd;\n",
              "            color:  #000000;\n",
              "        }#T_ec5d086a_57df_11ec_bed3_0242ac1c0002row1_col5,#T_ec5d086a_57df_11ec_bed3_0242ac1c0002row1_col7,#T_ec5d086a_57df_11ec_bed3_0242ac1c0002row4_col5,#T_ec5d086a_57df_11ec_bed3_0242ac1c0002row4_col7,#T_ec5d086a_57df_11ec_bed3_0242ac1c0002row6_col5,#T_ec5d086a_57df_11ec_bed3_0242ac1c0002row6_col7,#T_ec5d086a_57df_11ec_bed3_0242ac1c0002row8_col7{\n",
              "            background-color:  #c7d7f0;\n",
              "            color:  #000000;\n",
              "        }#T_ec5d086a_57df_11ec_bed3_0242ac1c0002row1_col8,#T_ec5d086a_57df_11ec_bed3_0242ac1c0002row2_col8,#T_ec5d086a_57df_11ec_bed3_0242ac1c0002row4_col8,#T_ec5d086a_57df_11ec_bed3_0242ac1c0002row6_col8,#T_ec5d086a_57df_11ec_bed3_0242ac1c0002row7_col8{\n",
              "            background-color:  #aec9fc;\n",
              "            color:  #000000;\n",
              "        }#T_ec5d086a_57df_11ec_bed3_0242ac1c0002row1_col9,#T_ec5d086a_57df_11ec_bed3_0242ac1c0002row2_col9,#T_ec5d086a_57df_11ec_bed3_0242ac1c0002row3_col10,#T_ec5d086a_57df_11ec_bed3_0242ac1c0002row4_col9{\n",
              "            background-color:  #82a6fb;\n",
              "            color:  #000000;\n",
              "        }#T_ec5d086a_57df_11ec_bed3_0242ac1c0002row1_col10,#T_ec5d086a_57df_11ec_bed3_0242ac1c0002row2_col0,#T_ec5d086a_57df_11ec_bed3_0242ac1c0002row2_col10,#T_ec5d086a_57df_11ec_bed3_0242ac1c0002row4_col10,#T_ec5d086a_57df_11ec_bed3_0242ac1c0002row6_col0{\n",
              "            background-color:  #90b2fe;\n",
              "            color:  #000000;\n",
              "        }#T_ec5d086a_57df_11ec_bed3_0242ac1c0002row2_col5{\n",
              "            background-color:  #c6d6f1;\n",
              "            color:  #000000;\n",
              "        }#T_ec5d086a_57df_11ec_bed3_0242ac1c0002row2_col7{\n",
              "            background-color:  #c9d7f0;\n",
              "            color:  #000000;\n",
              "        }#T_ec5d086a_57df_11ec_bed3_0242ac1c0002row3_col0,#T_ec5d086a_57df_11ec_bed3_0242ac1c0002row7_col0{\n",
              "            background-color:  #cedaeb;\n",
              "            color:  #000000;\n",
              "        }#T_ec5d086a_57df_11ec_bed3_0242ac1c0002row3_col2{\n",
              "            background-color:  #6687ed;\n",
              "            color:  #000000;\n",
              "        }#T_ec5d086a_57df_11ec_bed3_0242ac1c0002row3_col4{\n",
              "            background-color:  #3c4ec2;\n",
              "            color:  #f1f1f1;\n",
              "        }#T_ec5d086a_57df_11ec_bed3_0242ac1c0002row3_col5{\n",
              "            background-color:  #c4d5f3;\n",
              "            color:  #000000;\n",
              "        }#T_ec5d086a_57df_11ec_bed3_0242ac1c0002row3_col7{\n",
              "            background-color:  #88abfd;\n",
              "            color:  #000000;\n",
              "        }#T_ec5d086a_57df_11ec_bed3_0242ac1c0002row3_col8{\n",
              "            background-color:  #ec7f63;\n",
              "            color:  #000000;\n",
              "        }#T_ec5d086a_57df_11ec_bed3_0242ac1c0002row3_col9{\n",
              "            background-color:  #6180e9;\n",
              "            color:  #000000;\n",
              "        }#T_ec5d086a_57df_11ec_bed3_0242ac1c0002row4_col0{\n",
              "            background-color:  #9dbdff;\n",
              "            color:  #000000;\n",
              "        }#T_ec5d086a_57df_11ec_bed3_0242ac1c0002row4_col3,#T_ec5d086a_57df_11ec_bed3_0242ac1c0002row6_col3{\n",
              "            background-color:  #8caffe;\n",
              "            color:  #000000;\n",
              "        }#T_ec5d086a_57df_11ec_bed3_0242ac1c0002row5_col0{\n",
              "            background-color:  #465ecf;\n",
              "            color:  #f1f1f1;\n",
              "        }#T_ec5d086a_57df_11ec_bed3_0242ac1c0002row5_col2{\n",
              "            background-color:  #6485ec;\n",
              "            color:  #000000;\n",
              "        }#T_ec5d086a_57df_11ec_bed3_0242ac1c0002row5_col3,#T_ec5d086a_57df_11ec_bed3_0242ac1c0002row10_col7{\n",
              "            background-color:  #86a9fc;\n",
              "            color:  #000000;\n",
              "        }#T_ec5d086a_57df_11ec_bed3_0242ac1c0002row5_col9{\n",
              "            background-color:  #9bbcff;\n",
              "            color:  #000000;\n",
              "        }#T_ec5d086a_57df_11ec_bed3_0242ac1c0002row5_col10{\n",
              "            background-color:  #d5dbe5;\n",
              "            color:  #000000;\n",
              "        }#T_ec5d086a_57df_11ec_bed3_0242ac1c0002row6_col9{\n",
              "            background-color:  #85a8fc;\n",
              "            color:  #000000;\n",
              "        }#T_ec5d086a_57df_11ec_bed3_0242ac1c0002row7_col2{\n",
              "            background-color:  #6a8bef;\n",
              "            color:  #000000;\n",
              "        }#T_ec5d086a_57df_11ec_bed3_0242ac1c0002row7_col10{\n",
              "            background-color:  #3f53c6;\n",
              "            color:  #f1f1f1;\n",
              "        }#T_ec5d086a_57df_11ec_bed3_0242ac1c0002row8_col0{\n",
              "            background-color:  #d9dce1;\n",
              "            color:  #000000;\n",
              "        }#T_ec5d086a_57df_11ec_bed3_0242ac1c0002row8_col3{\n",
              "            background-color:  #f08b6e;\n",
              "            color:  #000000;\n",
              "        }#T_ec5d086a_57df_11ec_bed3_0242ac1c0002row8_col5{\n",
              "            background-color:  #5f7fe8;\n",
              "            color:  #000000;\n",
              "        }#T_ec5d086a_57df_11ec_bed3_0242ac1c0002row8_col10{\n",
              "            background-color:  #516ddb;\n",
              "            color:  #000000;\n",
              "        }#T_ec5d086a_57df_11ec_bed3_0242ac1c0002row9_col0{\n",
              "            background-color:  #81a4fb;\n",
              "            color:  #000000;\n",
              "        }#T_ec5d086a_57df_11ec_bed3_0242ac1c0002row9_col3{\n",
              "            background-color:  #6b8df0;\n",
              "            color:  #000000;\n",
              "        }#T_ec5d086a_57df_11ec_bed3_0242ac1c0002row9_col5{\n",
              "            background-color:  #d6dce4;\n",
              "            color:  #000000;\n",
              "        }#T_ec5d086a_57df_11ec_bed3_0242ac1c0002row9_col6{\n",
              "            background-color:  #3d50c3;\n",
              "            color:  #f1f1f1;\n",
              "        }#T_ec5d086a_57df_11ec_bed3_0242ac1c0002row9_col7,#T_ec5d086a_57df_11ec_bed3_0242ac1c0002row9_col8{\n",
              "            background-color:  #b5cdfa;\n",
              "            color:  #000000;\n",
              "        }#T_ec5d086a_57df_11ec_bed3_0242ac1c0002row9_col10{\n",
              "            background-color:  #4a63d3;\n",
              "            color:  #f1f1f1;\n",
              "        }#T_ec5d086a_57df_11ec_bed3_0242ac1c0002row10_col3{\n",
              "            background-color:  #7da0f9;\n",
              "            color:  #000000;\n",
              "        }#T_ec5d086a_57df_11ec_bed3_0242ac1c0002row10_col5{\n",
              "            background-color:  #f0cdbb;\n",
              "            color:  #000000;\n",
              "        }#T_ec5d086a_57df_11ec_bed3_0242ac1c0002row10_col8{\n",
              "            background-color:  #7597f6;\n",
              "            color:  #000000;\n",
              "        }</style><table id=\"T_ec5d086a_57df_11ec_bed3_0242ac1c0002\" class=\"dataframe\"><thead>    <tr>        <th class=\"blank level0\" ></th>        <th class=\"col_heading level0 col0\" >signal_chest_ACC</th>        <th class=\"col_heading level0 col1\" >signal_chest_ECG</th>        <th class=\"col_heading level0 col2\" >signal_chest_EMG</th>        <th class=\"col_heading level0 col3\" >signal_chest_EDA</th>        <th class=\"col_heading level0 col4\" >signal_chest_Resp</th>        <th class=\"col_heading level0 col5\" >signal_chest_Temp</th>        <th class=\"col_heading level0 col6\" >signal_wrist_BVP</th>        <th class=\"col_heading level0 col7\" >signal_wrist_TEMP</th>        <th class=\"col_heading level0 col8\" >signal_wrist_EDA</th>        <th class=\"col_heading level0 col9\" >signal_wrist_ACC</th>        <th class=\"col_heading level0 col10\" >label</th>    </tr></thead><tbody>\n",
              "                <tr>\n",
              "                        <th id=\"T_ec5d086a_57df_11ec_bed3_0242ac1c0002level0_row0\" class=\"row_heading level0 row0\" >signal_chest_ACC</th>\n",
              "                        <td id=\"T_ec5d086a_57df_11ec_bed3_0242ac1c0002row0_col0\" class=\"data row0 col0\" >1.000000</td>\n",
              "                        <td id=\"T_ec5d086a_57df_11ec_bed3_0242ac1c0002row0_col1\" class=\"data row0 col1\" >0.002554</td>\n",
              "                        <td id=\"T_ec5d086a_57df_11ec_bed3_0242ac1c0002row0_col2\" class=\"data row0 col2\" >-0.000358</td>\n",
              "                        <td id=\"T_ec5d086a_57df_11ec_bed3_0242ac1c0002row0_col3\" class=\"data row0 col3\" >0.249505</td>\n",
              "                        <td id=\"T_ec5d086a_57df_11ec_bed3_0242ac1c0002row0_col4\" class=\"data row0 col4\" >0.046068</td>\n",
              "                        <td id=\"T_ec5d086a_57df_11ec_bed3_0242ac1c0002row0_col5\" class=\"data row0 col5\" >-0.299046</td>\n",
              "                        <td id=\"T_ec5d086a_57df_11ec_bed3_0242ac1c0002row0_col6\" class=\"data row0 col6\" >-0.000842</td>\n",
              "                        <td id=\"T_ec5d086a_57df_11ec_bed3_0242ac1c0002row0_col7\" class=\"data row0 col7\" >0.250769</td>\n",
              "                        <td id=\"T_ec5d086a_57df_11ec_bed3_0242ac1c0002row0_col8\" class=\"data row0 col8\" >0.302463</td>\n",
              "                        <td id=\"T_ec5d086a_57df_11ec_bed3_0242ac1c0002row0_col9\" class=\"data row0 col9\" >-0.063182</td>\n",
              "                        <td id=\"T_ec5d086a_57df_11ec_bed3_0242ac1c0002row0_col10\" class=\"data row0 col10\" >-0.354160</td>\n",
              "            </tr>\n",
              "            <tr>\n",
              "                        <th id=\"T_ec5d086a_57df_11ec_bed3_0242ac1c0002level0_row1\" class=\"row_heading level0 row1\" >signal_chest_ECG</th>\n",
              "                        <td id=\"T_ec5d086a_57df_11ec_bed3_0242ac1c0002row1_col0\" class=\"data row1 col0\" >0.002554</td>\n",
              "                        <td id=\"T_ec5d086a_57df_11ec_bed3_0242ac1c0002row1_col1\" class=\"data row1 col1\" >1.000000</td>\n",
              "                        <td id=\"T_ec5d086a_57df_11ec_bed3_0242ac1c0002row1_col2\" class=\"data row1 col2\" >-0.168110</td>\n",
              "                        <td id=\"T_ec5d086a_57df_11ec_bed3_0242ac1c0002row1_col3\" class=\"data row1 col3\" >-0.001746</td>\n",
              "                        <td id=\"T_ec5d086a_57df_11ec_bed3_0242ac1c0002row1_col4\" class=\"data row1 col4\" >0.000549</td>\n",
              "                        <td id=\"T_ec5d086a_57df_11ec_bed3_0242ac1c0002row1_col5\" class=\"data row1 col5\" >0.000531</td>\n",
              "                        <td id=\"T_ec5d086a_57df_11ec_bed3_0242ac1c0002row1_col6\" class=\"data row1 col6\" >-0.000153</td>\n",
              "                        <td id=\"T_ec5d086a_57df_11ec_bed3_0242ac1c0002row1_col7\" class=\"data row1 col7\" >-0.000030</td>\n",
              "                        <td id=\"T_ec5d086a_57df_11ec_bed3_0242ac1c0002row1_col8\" class=\"data row1 col8\" >0.000021</td>\n",
              "                        <td id=\"T_ec5d086a_57df_11ec_bed3_0242ac1c0002row1_col9\" class=\"data row1 col9\" >-0.000241</td>\n",
              "                        <td id=\"T_ec5d086a_57df_11ec_bed3_0242ac1c0002row1_col10\" class=\"data row1 col10\" >-0.000053</td>\n",
              "            </tr>\n",
              "            <tr>\n",
              "                        <th id=\"T_ec5d086a_57df_11ec_bed3_0242ac1c0002level0_row2\" class=\"row_heading level0 row2\" >signal_chest_EMG</th>\n",
              "                        <td id=\"T_ec5d086a_57df_11ec_bed3_0242ac1c0002row2_col0\" class=\"data row2 col0\" >-0.000358</td>\n",
              "                        <td id=\"T_ec5d086a_57df_11ec_bed3_0242ac1c0002row2_col1\" class=\"data row2 col1\" >-0.168110</td>\n",
              "                        <td id=\"T_ec5d086a_57df_11ec_bed3_0242ac1c0002row2_col2\" class=\"data row2 col2\" >1.000000</td>\n",
              "                        <td id=\"T_ec5d086a_57df_11ec_bed3_0242ac1c0002row2_col3\" class=\"data row2 col3\" >-0.005086</td>\n",
              "                        <td id=\"T_ec5d086a_57df_11ec_bed3_0242ac1c0002row2_col4\" class=\"data row2 col4\" >-0.000010</td>\n",
              "                        <td id=\"T_ec5d086a_57df_11ec_bed3_0242ac1c0002row2_col5\" class=\"data row2 col5\" >-0.009253</td>\n",
              "                        <td id=\"T_ec5d086a_57df_11ec_bed3_0242ac1c0002row2_col6\" class=\"data row2 col6\" >0.000362</td>\n",
              "                        <td id=\"T_ec5d086a_57df_11ec_bed3_0242ac1c0002row2_col7\" class=\"data row2 col7\" >0.008254</td>\n",
              "                        <td id=\"T_ec5d086a_57df_11ec_bed3_0242ac1c0002row2_col8\" class=\"data row2 col8\" >-0.001845</td>\n",
              "                        <td id=\"T_ec5d086a_57df_11ec_bed3_0242ac1c0002row2_col9\" class=\"data row2 col9\" >-0.001786</td>\n",
              "                        <td id=\"T_ec5d086a_57df_11ec_bed3_0242ac1c0002row2_col10\" class=\"data row2 col10\" >-0.002709</td>\n",
              "            </tr>\n",
              "            <tr>\n",
              "                        <th id=\"T_ec5d086a_57df_11ec_bed3_0242ac1c0002level0_row3\" class=\"row_heading level0 row3\" >signal_chest_EDA</th>\n",
              "                        <td id=\"T_ec5d086a_57df_11ec_bed3_0242ac1c0002row3_col0\" class=\"data row3 col0\" >0.249505</td>\n",
              "                        <td id=\"T_ec5d086a_57df_11ec_bed3_0242ac1c0002row3_col1\" class=\"data row3 col1\" >-0.001746</td>\n",
              "                        <td id=\"T_ec5d086a_57df_11ec_bed3_0242ac1c0002row3_col2\" class=\"data row3 col2\" >-0.005086</td>\n",
              "                        <td id=\"T_ec5d086a_57df_11ec_bed3_0242ac1c0002row3_col3\" class=\"data row3 col3\" >1.000000</td>\n",
              "                        <td id=\"T_ec5d086a_57df_11ec_bed3_0242ac1c0002row3_col4\" class=\"data row3 col4\" >0.001750</td>\n",
              "                        <td id=\"T_ec5d086a_57df_11ec_bed3_0242ac1c0002row3_col5\" class=\"data row3 col5\" >-0.017480</td>\n",
              "                        <td id=\"T_ec5d086a_57df_11ec_bed3_0242ac1c0002row3_col6\" class=\"data row3 col6\" >0.000050</td>\n",
              "                        <td id=\"T_ec5d086a_57df_11ec_bed3_0242ac1c0002row3_col7\" class=\"data row3 col7\" >-0.328025</td>\n",
              "                        <td id=\"T_ec5d086a_57df_11ec_bed3_0242ac1c0002row3_col8\" class=\"data row3 col8\" >0.712809</td>\n",
              "                        <td id=\"T_ec5d086a_57df_11ec_bed3_0242ac1c0002row3_col9\" class=\"data row3 col9\" >-0.124507</td>\n",
              "                        <td id=\"T_ec5d086a_57df_11ec_bed3_0242ac1c0002row3_col10\" class=\"data row3 col10\" >-0.053212</td>\n",
              "            </tr>\n",
              "            <tr>\n",
              "                        <th id=\"T_ec5d086a_57df_11ec_bed3_0242ac1c0002level0_row4\" class=\"row_heading level0 row4\" >signal_chest_Resp</th>\n",
              "                        <td id=\"T_ec5d086a_57df_11ec_bed3_0242ac1c0002row4_col0\" class=\"data row4 col0\" >0.046068</td>\n",
              "                        <td id=\"T_ec5d086a_57df_11ec_bed3_0242ac1c0002row4_col1\" class=\"data row4 col1\" >0.000549</td>\n",
              "                        <td id=\"T_ec5d086a_57df_11ec_bed3_0242ac1c0002row4_col2\" class=\"data row4 col2\" >-0.000010</td>\n",
              "                        <td id=\"T_ec5d086a_57df_11ec_bed3_0242ac1c0002row4_col3\" class=\"data row4 col3\" >0.001750</td>\n",
              "                        <td id=\"T_ec5d086a_57df_11ec_bed3_0242ac1c0002row4_col4\" class=\"data row4 col4\" >1.000000</td>\n",
              "                        <td id=\"T_ec5d086a_57df_11ec_bed3_0242ac1c0002row4_col5\" class=\"data row4 col5\" >-0.000245</td>\n",
              "                        <td id=\"T_ec5d086a_57df_11ec_bed3_0242ac1c0002row4_col6\" class=\"data row4 col6\" >-0.002226</td>\n",
              "                        <td id=\"T_ec5d086a_57df_11ec_bed3_0242ac1c0002row4_col7\" class=\"data row4 col7\" >0.000166</td>\n",
              "                        <td id=\"T_ec5d086a_57df_11ec_bed3_0242ac1c0002row4_col8\" class=\"data row4 col8\" >-0.000585</td>\n",
              "                        <td id=\"T_ec5d086a_57df_11ec_bed3_0242ac1c0002row4_col9\" class=\"data row4 col9\" >-0.001955</td>\n",
              "                        <td id=\"T_ec5d086a_57df_11ec_bed3_0242ac1c0002row4_col10\" class=\"data row4 col10\" >-0.003223</td>\n",
              "            </tr>\n",
              "            <tr>\n",
              "                        <th id=\"T_ec5d086a_57df_11ec_bed3_0242ac1c0002level0_row5\" class=\"row_heading level0 row5\" >signal_chest_Temp</th>\n",
              "                        <td id=\"T_ec5d086a_57df_11ec_bed3_0242ac1c0002row5_col0\" class=\"data row5 col0\" >-0.299046</td>\n",
              "                        <td id=\"T_ec5d086a_57df_11ec_bed3_0242ac1c0002row5_col1\" class=\"data row5 col1\" >0.000531</td>\n",
              "                        <td id=\"T_ec5d086a_57df_11ec_bed3_0242ac1c0002row5_col2\" class=\"data row5 col2\" >-0.009253</td>\n",
              "                        <td id=\"T_ec5d086a_57df_11ec_bed3_0242ac1c0002row5_col3\" class=\"data row5 col3\" >-0.017480</td>\n",
              "                        <td id=\"T_ec5d086a_57df_11ec_bed3_0242ac1c0002row5_col4\" class=\"data row5 col4\" >-0.000245</td>\n",
              "                        <td id=\"T_ec5d086a_57df_11ec_bed3_0242ac1c0002row5_col5\" class=\"data row5 col5\" >1.000000</td>\n",
              "                        <td id=\"T_ec5d086a_57df_11ec_bed3_0242ac1c0002row5_col6\" class=\"data row5 col6\" >0.000128</td>\n",
              "                        <td id=\"T_ec5d086a_57df_11ec_bed3_0242ac1c0002row5_col7\" class=\"data row5 col7\" >-0.735092</td>\n",
              "                        <td id=\"T_ec5d086a_57df_11ec_bed3_0242ac1c0002row5_col8\" class=\"data row5 col8\" >-0.528273</td>\n",
              "                        <td id=\"T_ec5d086a_57df_11ec_bed3_0242ac1c0002row5_col9\" class=\"data row5 col9\" >0.086926</td>\n",
              "                        <td id=\"T_ec5d086a_57df_11ec_bed3_0242ac1c0002row5_col10\" class=\"data row5 col10\" >0.284965</td>\n",
              "            </tr>\n",
              "            <tr>\n",
              "                        <th id=\"T_ec5d086a_57df_11ec_bed3_0242ac1c0002level0_row6\" class=\"row_heading level0 row6\" >signal_wrist_BVP</th>\n",
              "                        <td id=\"T_ec5d086a_57df_11ec_bed3_0242ac1c0002row6_col0\" class=\"data row6 col0\" >-0.000842</td>\n",
              "                        <td id=\"T_ec5d086a_57df_11ec_bed3_0242ac1c0002row6_col1\" class=\"data row6 col1\" >-0.000153</td>\n",
              "                        <td id=\"T_ec5d086a_57df_11ec_bed3_0242ac1c0002row6_col2\" class=\"data row6 col2\" >0.000362</td>\n",
              "                        <td id=\"T_ec5d086a_57df_11ec_bed3_0242ac1c0002row6_col3\" class=\"data row6 col3\" >0.000050</td>\n",
              "                        <td id=\"T_ec5d086a_57df_11ec_bed3_0242ac1c0002row6_col4\" class=\"data row6 col4\" >-0.002226</td>\n",
              "                        <td id=\"T_ec5d086a_57df_11ec_bed3_0242ac1c0002row6_col5\" class=\"data row6 col5\" >0.000128</td>\n",
              "                        <td id=\"T_ec5d086a_57df_11ec_bed3_0242ac1c0002row6_col6\" class=\"data row6 col6\" >1.000000</td>\n",
              "                        <td id=\"T_ec5d086a_57df_11ec_bed3_0242ac1c0002row6_col7\" class=\"data row6 col7\" >-0.000048</td>\n",
              "                        <td id=\"T_ec5d086a_57df_11ec_bed3_0242ac1c0002row6_col8\" class=\"data row6 col8\" >0.000194</td>\n",
              "                        <td id=\"T_ec5d086a_57df_11ec_bed3_0242ac1c0002row6_col9\" class=\"data row6 col9\" >0.008064</td>\n",
              "                        <td id=\"T_ec5d086a_57df_11ec_bed3_0242ac1c0002row6_col10\" class=\"data row6 col10\" >0.000310</td>\n",
              "            </tr>\n",
              "            <tr>\n",
              "                        <th id=\"T_ec5d086a_57df_11ec_bed3_0242ac1c0002level0_row7\" class=\"row_heading level0 row7\" >signal_wrist_TEMP</th>\n",
              "                        <td id=\"T_ec5d086a_57df_11ec_bed3_0242ac1c0002row7_col0\" class=\"data row7 col0\" >0.250769</td>\n",
              "                        <td id=\"T_ec5d086a_57df_11ec_bed3_0242ac1c0002row7_col1\" class=\"data row7 col1\" >-0.000030</td>\n",
              "                        <td id=\"T_ec5d086a_57df_11ec_bed3_0242ac1c0002row7_col2\" class=\"data row7 col2\" >0.008254</td>\n",
              "                        <td id=\"T_ec5d086a_57df_11ec_bed3_0242ac1c0002row7_col3\" class=\"data row7 col3\" >-0.328025</td>\n",
              "                        <td id=\"T_ec5d086a_57df_11ec_bed3_0242ac1c0002row7_col4\" class=\"data row7 col4\" >0.000166</td>\n",
              "                        <td id=\"T_ec5d086a_57df_11ec_bed3_0242ac1c0002row7_col5\" class=\"data row7 col5\" >-0.735092</td>\n",
              "                        <td id=\"T_ec5d086a_57df_11ec_bed3_0242ac1c0002row7_col6\" class=\"data row7 col6\" >-0.000048</td>\n",
              "                        <td id=\"T_ec5d086a_57df_11ec_bed3_0242ac1c0002row7_col7\" class=\"data row7 col7\" >1.000000</td>\n",
              "                        <td id=\"T_ec5d086a_57df_11ec_bed3_0242ac1c0002row7_col8\" class=\"data row7 col8\" >-0.001064</td>\n",
              "                        <td id=\"T_ec5d086a_57df_11ec_bed3_0242ac1c0002row7_col9\" class=\"data row7 col9\" >-0.099227</td>\n",
              "                        <td id=\"T_ec5d086a_57df_11ec_bed3_0242ac1c0002row7_col10\" class=\"data row7 col10\" >-0.330767</td>\n",
              "            </tr>\n",
              "            <tr>\n",
              "                        <th id=\"T_ec5d086a_57df_11ec_bed3_0242ac1c0002level0_row8\" class=\"row_heading level0 row8\" >signal_wrist_EDA</th>\n",
              "                        <td id=\"T_ec5d086a_57df_11ec_bed3_0242ac1c0002row8_col0\" class=\"data row8 col0\" >0.302463</td>\n",
              "                        <td id=\"T_ec5d086a_57df_11ec_bed3_0242ac1c0002row8_col1\" class=\"data row8 col1\" >0.000021</td>\n",
              "                        <td id=\"T_ec5d086a_57df_11ec_bed3_0242ac1c0002row8_col2\" class=\"data row8 col2\" >-0.001845</td>\n",
              "                        <td id=\"T_ec5d086a_57df_11ec_bed3_0242ac1c0002row8_col3\" class=\"data row8 col3\" >0.712809</td>\n",
              "                        <td id=\"T_ec5d086a_57df_11ec_bed3_0242ac1c0002row8_col4\" class=\"data row8 col4\" >-0.000585</td>\n",
              "                        <td id=\"T_ec5d086a_57df_11ec_bed3_0242ac1c0002row8_col5\" class=\"data row8 col5\" >-0.528273</td>\n",
              "                        <td id=\"T_ec5d086a_57df_11ec_bed3_0242ac1c0002row8_col6\" class=\"data row8 col6\" >0.000194</td>\n",
              "                        <td id=\"T_ec5d086a_57df_11ec_bed3_0242ac1c0002row8_col7\" class=\"data row8 col7\" >-0.001064</td>\n",
              "                        <td id=\"T_ec5d086a_57df_11ec_bed3_0242ac1c0002row8_col8\" class=\"data row8 col8\" >1.000000</td>\n",
              "                        <td id=\"T_ec5d086a_57df_11ec_bed3_0242ac1c0002row8_col9\" class=\"data row8 col9\" >0.030413</td>\n",
              "                        <td id=\"T_ec5d086a_57df_11ec_bed3_0242ac1c0002row8_col10\" class=\"data row8 col10\" >-0.251953</td>\n",
              "            </tr>\n",
              "            <tr>\n",
              "                        <th id=\"T_ec5d086a_57df_11ec_bed3_0242ac1c0002level0_row9\" class=\"row_heading level0 row9\" >signal_wrist_ACC</th>\n",
              "                        <td id=\"T_ec5d086a_57df_11ec_bed3_0242ac1c0002row9_col0\" class=\"data row9 col0\" >-0.063182</td>\n",
              "                        <td id=\"T_ec5d086a_57df_11ec_bed3_0242ac1c0002row9_col1\" class=\"data row9 col1\" >-0.000241</td>\n",
              "                        <td id=\"T_ec5d086a_57df_11ec_bed3_0242ac1c0002row9_col2\" class=\"data row9 col2\" >-0.001786</td>\n",
              "                        <td id=\"T_ec5d086a_57df_11ec_bed3_0242ac1c0002row9_col3\" class=\"data row9 col3\" >-0.124507</td>\n",
              "                        <td id=\"T_ec5d086a_57df_11ec_bed3_0242ac1c0002row9_col4\" class=\"data row9 col4\" >-0.001955</td>\n",
              "                        <td id=\"T_ec5d086a_57df_11ec_bed3_0242ac1c0002row9_col5\" class=\"data row9 col5\" >0.086926</td>\n",
              "                        <td id=\"T_ec5d086a_57df_11ec_bed3_0242ac1c0002row9_col6\" class=\"data row9 col6\" >0.008064</td>\n",
              "                        <td id=\"T_ec5d086a_57df_11ec_bed3_0242ac1c0002row9_col7\" class=\"data row9 col7\" >-0.099227</td>\n",
              "                        <td id=\"T_ec5d086a_57df_11ec_bed3_0242ac1c0002row9_col8\" class=\"data row9 col8\" >0.030413</td>\n",
              "                        <td id=\"T_ec5d086a_57df_11ec_bed3_0242ac1c0002row9_col9\" class=\"data row9 col9\" >1.000000</td>\n",
              "                        <td id=\"T_ec5d086a_57df_11ec_bed3_0242ac1c0002row9_col10\" class=\"data row9 col10\" >-0.284505</td>\n",
              "            </tr>\n",
              "            <tr>\n",
              "                        <th id=\"T_ec5d086a_57df_11ec_bed3_0242ac1c0002level0_row10\" class=\"row_heading level0 row10\" >label</th>\n",
              "                        <td id=\"T_ec5d086a_57df_11ec_bed3_0242ac1c0002row10_col0\" class=\"data row10 col0\" >-0.354160</td>\n",
              "                        <td id=\"T_ec5d086a_57df_11ec_bed3_0242ac1c0002row10_col1\" class=\"data row10 col1\" >-0.000053</td>\n",
              "                        <td id=\"T_ec5d086a_57df_11ec_bed3_0242ac1c0002row10_col2\" class=\"data row10 col2\" >-0.002709</td>\n",
              "                        <td id=\"T_ec5d086a_57df_11ec_bed3_0242ac1c0002row10_col3\" class=\"data row10 col3\" >-0.053212</td>\n",
              "                        <td id=\"T_ec5d086a_57df_11ec_bed3_0242ac1c0002row10_col4\" class=\"data row10 col4\" >-0.003223</td>\n",
              "                        <td id=\"T_ec5d086a_57df_11ec_bed3_0242ac1c0002row10_col5\" class=\"data row10 col5\" >0.284965</td>\n",
              "                        <td id=\"T_ec5d086a_57df_11ec_bed3_0242ac1c0002row10_col6\" class=\"data row10 col6\" >0.000310</td>\n",
              "                        <td id=\"T_ec5d086a_57df_11ec_bed3_0242ac1c0002row10_col7\" class=\"data row10 col7\" >-0.330767</td>\n",
              "                        <td id=\"T_ec5d086a_57df_11ec_bed3_0242ac1c0002row10_col8\" class=\"data row10 col8\" >-0.251953</td>\n",
              "                        <td id=\"T_ec5d086a_57df_11ec_bed3_0242ac1c0002row10_col9\" class=\"data row10 col9\" >-0.284505</td>\n",
              "                        <td id=\"T_ec5d086a_57df_11ec_bed3_0242ac1c0002row10_col10\" class=\"data row10 col10\" >1.000000</td>\n",
              "            </tr>\n",
              "    </tbody></table>"
            ],
            "text/plain": [
              "<pandas.io.formats.style.Styler at 0x7f13c7b19f90>"
            ]
          },
          "metadata": {},
          "execution_count": 11
        }
      ]
    },
    {
      "cell_type": "markdown",
      "metadata": {
        "id": "RuKn-j99NSKc"
      },
      "source": [
        "**Split Train Test Data**"
      ]
    },
    {
      "cell_type": "code",
      "metadata": {
        "id": "v0NT5JriAbgV"
      },
      "source": [
        "from sklearn.model_selection import train_test_split\n",
        "X = sn_dataframe.drop(columns=['label'])\n",
        "Y = sn_dataframe.label\n",
        "X_train, X_test, Y_train, Y_test = train_test_split(X, Y, test_size=0.35)"
      ],
      "execution_count": null,
      "outputs": []
    },
    {
      "cell_type": "markdown",
      "metadata": {
        "id": "yOIZjQ3FNMY2"
      },
      "source": [
        "**Logistic Regression**"
      ]
    },
    {
      "cell_type": "code",
      "metadata": {
        "colab": {
          "base_uri": "https://localhost:8080/"
        },
        "id": "7cwUuxkz4497",
        "outputId": "df1ed7d3-aa02-4349-a7ea-ced417cf67a0"
      },
      "source": [
        "from sklearn.linear_model import LogisticRegression\n",
        "model = LogisticRegression(multi_class='multinomial',max_iter=200).fit(X_train, Y_train)"
      ],
      "execution_count": null,
      "outputs": [
        {
          "output_type": "stream",
          "name": "stderr",
          "text": [
            "/usr/local/lib/python3.7/dist-packages/sklearn/linear_model/_logistic.py:818: ConvergenceWarning: lbfgs failed to converge (status=1):\n",
            "STOP: TOTAL NO. of ITERATIONS REACHED LIMIT.\n",
            "\n",
            "Increase the number of iterations (max_iter) or scale the data as shown in:\n",
            "    https://scikit-learn.org/stable/modules/preprocessing.html\n",
            "Please also refer to the documentation for alternative solver options:\n",
            "    https://scikit-learn.org/stable/modules/linear_model.html#logistic-regression\n",
            "  extra_warning_msg=_LOGISTIC_SOLVER_CONVERGENCE_MSG,\n"
          ]
        }
      ]
    },
    {
      "cell_type": "code",
      "metadata": {
        "colab": {
          "base_uri": "https://localhost:8080/"
        },
        "id": "5WhGUCCQAma_",
        "outputId": "a604ddbd-93f7-41f9-bea5-f458534cd500"
      },
      "source": [
        "pred = model.predict(X_test)\n",
        "from sklearn.metrics import accuracy_score\n",
        "accuracy_score(Y_test, pred) * 100"
      ],
      "execution_count": null,
      "outputs": [
        {
          "output_type": "execute_result",
          "data": {
            "text/plain": [
              "79.92449798570298"
            ]
          },
          "metadata": {},
          "execution_count": 13
        }
      ]
    },
    {
      "cell_type": "code",
      "metadata": {
        "colab": {
          "base_uri": "https://localhost:8080/"
        },
        "id": "kTdgpPqSAo4V",
        "outputId": "75eeb413-b754-49e9-ce49-0701e95017b2"
      },
      "source": [
        "from sklearn.metrics import f1_score\n",
        "f1_score(Y_test, pred, average='micro')"
      ],
      "execution_count": null,
      "outputs": [
        {
          "output_type": "execute_result",
          "data": {
            "text/plain": [
              "0.7992449798570298"
            ]
          },
          "metadata": {},
          "execution_count": 14
        }
      ]
    },
    {
      "cell_type": "markdown",
      "metadata": {
        "id": "CsTsavUzNEfQ"
      },
      "source": [
        "**K-Nearest Neighbours**"
      ]
    },
    {
      "cell_type": "code",
      "metadata": {
        "id": "6J5UpiAvJ9rL"
      },
      "source": [
        "from sklearn.neighbors import KNeighborsClassifier\n",
        "knn_classifier = KNeighborsClassifier().fit(X_train, Y_train)"
      ],
      "execution_count": null,
      "outputs": []
    },
    {
      "cell_type": "code",
      "metadata": {
        "colab": {
          "base_uri": "https://localhost:8080/"
        },
        "id": "uenkvR9jK6Ii",
        "outputId": "0cef2203-9279-4b47-ac97-e9e7e78a27f3"
      },
      "source": [
        "knn_score = knn_classifier.predict(X_test)\n",
        "from sklearn.metrics import accuracy_score\n",
        "accuracy_score(Y_test, knn_score) * 100"
      ],
      "execution_count": null,
      "outputs": [
        {
          "output_type": "execute_result",
          "data": {
            "text/plain": [
              "99.79876529247281"
            ]
          },
          "metadata": {},
          "execution_count": 16
        }
      ]
    },
    {
      "cell_type": "code",
      "metadata": {
        "colab": {
          "base_uri": "https://localhost:8080/"
        },
        "id": "yDqTtkuyNeNr",
        "outputId": "ef53afc4-f778-48b4-b392-6df843d7eb98"
      },
      "source": [
        "from sklearn.metrics import f1_score\n",
        "f1_score(Y_test, knn_score, average='micro')"
      ],
      "execution_count": null,
      "outputs": [
        {
          "output_type": "execute_result",
          "data": {
            "text/plain": [
              "0.9979876529247281"
            ]
          },
          "metadata": {},
          "execution_count": 17
        }
      ]
    },
    {
      "cell_type": "markdown",
      "metadata": {
        "id": "1hfelF1KMytS"
      },
      "source": [
        "**Decision Tree**\n"
      ]
    },
    {
      "cell_type": "code",
      "metadata": {
        "id": "2AAa2v4Cv7fc"
      },
      "source": [
        "from sklearn import tree\n",
        "dt = tree.DecisionTreeClassifier().fit(X_train,Y_train)"
      ],
      "execution_count": null,
      "outputs": []
    },
    {
      "cell_type": "code",
      "metadata": {
        "colab": {
          "base_uri": "https://localhost:8080/"
        },
        "id": "sG9u8coWwG5J",
        "outputId": "c0409854-7ab6-4008-c98e-47a8b70d0e2b"
      },
      "source": [
        "dt_score = dt.predict(X_test)\n",
        "from sklearn.metrics import accuracy_score\n",
        "accuracy_score(Y_test, dt_score) * 100"
      ],
      "execution_count": null,
      "outputs": [
        {
          "output_type": "execute_result",
          "data": {
            "text/plain": [
              "99.92496597339489"
            ]
          },
          "metadata": {},
          "execution_count": 14
        }
      ]
    },
    {
      "cell_type": "code",
      "metadata": {
        "colab": {
          "base_uri": "https://localhost:8080/"
        },
        "id": "HvSEBLQaUuSE",
        "outputId": "81a770a0-65ef-4874-dc0f-e99987b2121f"
      },
      "source": [
        "dt.get_n_leaves()"
      ],
      "execution_count": null,
      "outputs": [
        {
          "output_type": "execute_result",
          "data": {
            "text/plain": [
              "2785"
            ]
          },
          "metadata": {},
          "execution_count": 19
        }
      ]
    },
    {
      "cell_type": "code",
      "metadata": {
        "colab": {
          "base_uri": "https://localhost:8080/"
        },
        "id": "aqk2T16DNnQz",
        "outputId": "24c1b848-c959-427b-ed03-d7a585c10e77"
      },
      "source": [
        "from sklearn.metrics import f1_score\n",
        "f1_score(Y_test, knn_score, average='micro')"
      ],
      "execution_count": null,
      "outputs": [
        {
          "output_type": "execute_result",
          "data": {
            "text/plain": [
              "0.9979876529247281"
            ]
          },
          "metadata": {},
          "execution_count": 20
        }
      ]
    },
    {
      "cell_type": "markdown",
      "metadata": {
        "id": "S9MuXXDgNbZO"
      },
      "source": [
        "**Save Model**"
      ]
    },
    {
      "cell_type": "code",
      "metadata": {
        "id": "1OWa2rUNMOPy"
      },
      "source": [
        "pickle.dump(model,open(\"/content/drive/MyDrive/Pattern Recognition/Results/logistic_{}.pkl\".format(sub_id),\"wb\"))\n",
        "pickle.dump(knn_classifier,open(\"/content/drive/MyDrive/Pattern Recognition/Results/knn_{}.pkl\".format(sub_id),\"wb\"))\n",
        "pickle.dump(dt,open(\"/content/drive/MyDrive/Pattern Recognition/Results/tree_{}.pkl\".format(sub_id),\"wb\"))"
      ],
      "execution_count": null,
      "outputs": []
    }
  ]
}